{
 "cells": [
  {
   "cell_type": "markdown",
   "id": "4d84c91b",
   "metadata": {},
   "source": [
    "# Module #4 -- Assignment\n",
    "\n",
    "# Instructions\n",
    "Using all the knowledge acquired mainly in this module to re-experiment what we discussed in this module using the raw IULA data\n",
    "\n",
    "\n",
    "\n",
    "## Preparation\n",
    "\n",
    "- Download the IULA dataset from [here](https://repositori.upf.edu/handle/10230/20052) (the link to the file is in the View document tab next to the Description)\n",
    "- The raw data is in EN/*/*-plain.txt in all the subfolders.\n",
    "\n",
    "## Your task is to\n",
    "\n",
    "### 1. Concatenate all the plain.txt into one file, then\n",
    "  - convert all the punctuations and non-English characters into space;\n",
    "  - collapse any trailing spaces into one single space;\n",
    "  - transform all the characters into lowercase;\n",
    "  - do not stem any of them.\n",
    "  \n",
    "### 2. Using the product of (1.) and recreate the table shown on page #22.\n",
    "  - If the value is not the same, give hypotheses what is the root cause that makes the page #22 in the slide incorrect\n",
    "  - Complete the 10^9P(x|w)P(w) using Norvig's prob and your IULA (page #30)\n",
    "  \n",
    "### 3. Use your calculated IULA and complete the calculation like that on page #37"
   ]
  },
  {
   "cell_type": "markdown",
   "id": "e55122ce",
   "metadata": {},
   "source": [
    "---"
   ]
  },
  {
   "cell_type": "markdown",
   "id": "045a3907",
   "metadata": {},
   "source": [
    "### The Essentail Library"
   ]
  },
  {
   "cell_type": "code",
   "execution_count": 1,
   "id": "bd7bee5d",
   "metadata": {},
   "outputs": [],
   "source": [
    "import pandas as pd # do some data\n",
    "import numpy as np\n",
    "import multiprocessing as mp\n",
    "import functools\n",
    "import itertools\n",
    "from string import ascii_lowercase\n",
    "import os\n",
    "from pathlib import Path\n",
    "import re"
   ]
  },
  {
   "cell_type": "markdown",
   "id": "36eae9e3",
   "metadata": {},
   "source": [
    "---"
   ]
  },
  {
   "cell_type": "markdown",
   "id": "7df57a9e",
   "metadata": {},
   "source": [
    "# Assignment Part"
   ]
  },
  {
   "cell_type": "markdown",
   "id": "99ca9f4c",
   "metadata": {},
   "source": [
    "## 1. Concatenate all the plain.txt into one file, then"
   ]
  },
  {
   "cell_type": "code",
   "execution_count": 2,
   "id": "be1c3312",
   "metadata": {},
   "outputs": [
    {
     "name": "stdout",
     "output_type": "stream",
     "text": [
      "trategies on the future of the chlorine industry C. Hendriks and D. Papameletiou Issue: Production and use of chlorine are of key importance for the chemical industry, with a large number of chlorinated compounds on the market, and nearly 60% of the global sales of chemical products being directly \n"
     ]
    }
   ],
   "source": [
    "path = \"E:\\CMU\\953\\IR481\\Module4\\IULA\\EN\"\n",
    "os.chdir(path)\n",
    "root_folder = os.listdir()\n",
    "\n",
    "context = ''\n",
    "for file in root_folder:\n",
    "    folder = f\"E:\\CMU\\953\\IR481\\Module4\\IULA\\EN\\{file}\"\n",
    "    os.chdir(folder)\n",
    "    plan_text = os.listdir()[1]\n",
    "    file_path = f\"{folder}\\{plan_text}\"\n",
    "    temp = Path(file_path).read_text('utf-8')\n",
    "    temp = temp.replace('\\n', '')\n",
    "    context += temp\n",
    "\n",
    "print(context[1:300])"
   ]
  },
  {
   "cell_type": "markdown",
   "id": "9b7b88e0",
   "metadata": {},
   "source": [
    "### convert all the punctuations and non-English characters into space;"
   ]
  },
  {
   "cell_type": "code",
   "execution_count": 3,
   "id": "395c3d66",
   "metadata": {},
   "outputs": [
    {
     "name": "stdout",
     "output_type": "stream",
     "text": [
      "trategies on the future of the chlorine industry C  Hendriks and D  Papameletiou Issue  Production and use of chlorine are of key importance for the chemical industry  with a large number of chlorinated compounds on the market  and nearly     of the global sales of chemical products being directly \n"
     ]
    }
   ],
   "source": [
    "context = re.sub('[^A-Za-z]',\" \",context)\n",
    "print(context[1:300])"
   ]
  },
  {
   "cell_type": "markdown",
   "id": "6dc0fc0a",
   "metadata": {},
   "source": [
    "### collapse any trailing spaces into one single space;"
   ]
  },
  {
   "cell_type": "code",
   "execution_count": 4,
   "id": "b68c90c7",
   "metadata": {},
   "outputs": [
    {
     "name": "stdout",
     "output_type": "stream",
     "text": [
      "trategies on the future of the chlorine industry C Hendriks and D Papameletiou Issue Production and use of chlorine are of key importance for the chemical industry with a large number of chlorinated compounds on the market and nearly of the global sales of chemical products being directly or indire\n"
     ]
    }
   ],
   "source": [
    "context = \" \".join(context.split())\n",
    "print(context[1:300])"
   ]
  },
  {
   "cell_type": "markdown",
   "id": "ab88acfb",
   "metadata": {},
   "source": [
    "### transform all the characters into lowercase (do not stem any of them.)"
   ]
  },
  {
   "cell_type": "code",
   "execution_count": 5,
   "id": "9c9f0f98",
   "metadata": {},
   "outputs": [
    {
     "name": "stdout",
     "output_type": "stream",
     "text": [
      "trategies on the future of the chlorine industry c hendriks and d papameletiou issue production and use of chlorine are of key importance for the chemical industry with a large number of chlorinated compounds on the market and nearly of the global sales of chemical products being directly or indire\n"
     ]
    }
   ],
   "source": [
    "context = context.lower()\n",
    "print(context[1:300])"
   ]
  },
  {
   "cell_type": "markdown",
   "id": "468d318d",
   "metadata": {},
   "source": [
    "---"
   ]
  },
  {
   "cell_type": "markdown",
   "id": "2d5b5af0",
   "metadata": {},
   "source": [
    "## 2. Using the product of (1.) and recreate the table shown on page #22."
   ]
  },
  {
   "cell_type": "markdown",
   "id": "de32a089",
   "metadata": {},
   "source": [
    "### recreate the table show on page#22"
   ]
  },
  {
   "cell_type": "code",
   "execution_count": 6,
   "id": "ef422703",
   "metadata": {},
   "outputs": [
    {
     "data": {
      "text/html": [
       "<div>\n",
       "<style scoped>\n",
       "    .dataframe tbody tr th:only-of-type {\n",
       "        vertical-align: middle;\n",
       "    }\n",
       "\n",
       "    .dataframe tbody tr th {\n",
       "        vertical-align: top;\n",
       "    }\n",
       "\n",
       "    .dataframe thead th {\n",
       "        text-align: right;\n",
       "    }\n",
       "</style>\n",
       "<table border=\"1\" class=\"dataframe\">\n",
       "  <thead>\n",
       "    <tr style=\"text-align: right;\">\n",
       "      <th></th>\n",
       "      <th>word</th>\n",
       "      <th>frequency</th>\n",
       "      <th>P(w)</th>\n",
       "      <th>rank</th>\n",
       "    </tr>\n",
       "  </thead>\n",
       "  <tbody>\n",
       "    <tr>\n",
       "      <th>0</th>\n",
       "      <td>defeat</td>\n",
       "      <td>12</td>\n",
       "      <td>0.000006</td>\n",
       "      <td>2</td>\n",
       "    </tr>\n",
       "    <tr>\n",
       "      <th>1</th>\n",
       "      <td>decet</td>\n",
       "      <td>0</td>\n",
       "      <td>0.000000</td>\n",
       "      <td>5</td>\n",
       "    </tr>\n",
       "    <tr>\n",
       "      <th>2</th>\n",
       "      <td>defect</td>\n",
       "      <td>198</td>\n",
       "      <td>0.000094</td>\n",
       "      <td>1</td>\n",
       "    </tr>\n",
       "    <tr>\n",
       "      <th>3</th>\n",
       "      <td>deft</td>\n",
       "      <td>0</td>\n",
       "      <td>0.000000</td>\n",
       "      <td>5</td>\n",
       "    </tr>\n",
       "    <tr>\n",
       "      <th>4</th>\n",
       "      <td>defer</td>\n",
       "      <td>11</td>\n",
       "      <td>0.000005</td>\n",
       "      <td>3</td>\n",
       "    </tr>\n",
       "    <tr>\n",
       "      <th>5</th>\n",
       "      <td>Deeft</td>\n",
       "      <td>0</td>\n",
       "      <td>0.000000</td>\n",
       "      <td>5</td>\n",
       "    </tr>\n",
       "  </tbody>\n",
       "</table>\n",
       "</div>"
      ],
      "text/plain": [
       "     word  frequency      P(w)  rank\n",
       "0  defeat         12  0.000006     2\n",
       "1   decet          0  0.000000     5\n",
       "2  defect        198  0.000094     1\n",
       "3    deft          0  0.000000     5\n",
       "4   defer         11  0.000005     3\n",
       "5   Deeft          0  0.000000     5"
      ]
     },
     "execution_count": 6,
     "metadata": {},
     "output_type": "execute_result"
    }
   ],
   "source": [
    "IULA = pd.DataFrame(\n",
    "    [\n",
    "        ['defeat',context.count('defeat')],\n",
    "        ['decet',context.count('decet')],\n",
    "        ['defect',context.count('defect')],\n",
    "        ['deft',context.count('deft')],\n",
    "        ['defer',context.count('defer')],\n",
    "        ['Deeft',context.count('Deeft')]\n",
    "    ],\n",
    "    columns=['word','frequency']\n",
    ")\n",
    "IULA_pop = 2.1e6\n",
    "IULA['P(w)'] = IULA['frequency']/IULA_pop\n",
    "IULA['rank'] = IULA['frequency'].rank(ascending=False).astype(int)\n",
    "\n",
    "IULA.head(6)"
   ]
  },
  {
   "cell_type": "markdown",
   "id": "9429dd22",
   "metadata": {},
   "source": [
    "### Complete the 10^9P(x|w)P(w) using Norvig's prob and your IULA"
   ]
  },
  {
   "cell_type": "code",
   "execution_count": 7,
   "id": "b8b2441b",
   "metadata": {},
   "outputs": [],
   "source": [
    "norvig = pd.read_csv(\n",
    "    'http://norvig.com/ngrams/count_1edit.txt',\n",
    "    sep='\\t',\n",
    "    encoding = \"ISO-8859-1\",\n",
    "    header=None\n",
    ")\n",
    "norvig.columns = ['term', 'edit']\n",
    "norvig = norvig.set_index('term')"
   ]
  },
  {
   "cell_type": "code",
   "execution_count": 8,
   "id": "f4972c7f",
   "metadata": {},
   "outputs": [],
   "source": [
    "norvig_orig = pd.read_csv(\n",
    "    'http://norvig.com/ngrams/count_big.txt',\n",
    "    sep='\\t',\n",
    "    encoding = \"ISO-8859-1\",\n",
    "    header=None\n",
    ")\n",
    "norvig_orig = norvig_orig.dropna()\n",
    "norvig_orig.columns=['term','freq']"
   ]
  },
  {
   "cell_type": "code",
   "execution_count": 9,
   "id": "9ef78627",
   "metadata": {},
   "outputs": [],
   "source": [
    "def get_count(c):\n",
    "    return norvig_orig.apply(lambda x: x.term.count(c) * x.freq, axis=1).sum()"
   ]
  },
  {
   "cell_type": "code",
   "execution_count": 10,
   "id": "274c3f6e",
   "metadata": {},
   "outputs": [],
   "source": [
    "character_set = list(map(''.join, itertools.product(ascii_lowercase, repeat=1))) + list(map(''.join, itertools.product(ascii_lowercase, repeat=2)))"
   ]
  },
  {
   "cell_type": "code",
   "execution_count": 11,
   "id": "57366237",
   "metadata": {},
   "outputs": [],
   "source": [
    "freq_list = []\n",
    "for i in character_set :\n",
    "    freq_list.append(get_count(i))"
   ]
  },
  {
   "cell_type": "code",
   "execution_count": 12,
   "id": "5b307038",
   "metadata": {},
   "outputs": [
    {
     "data": {
      "text/html": [
       "<div>\n",
       "<style scoped>\n",
       "    .dataframe tbody tr th:only-of-type {\n",
       "        vertical-align: middle;\n",
       "    }\n",
       "\n",
       "    .dataframe tbody tr th {\n",
       "        vertical-align: top;\n",
       "    }\n",
       "\n",
       "    .dataframe thead th {\n",
       "        text-align: right;\n",
       "    }\n",
       "</style>\n",
       "<table border=\"1\" class=\"dataframe\">\n",
       "  <thead>\n",
       "    <tr style=\"text-align: right;\">\n",
       "      <th></th>\n",
       "      <th>word</th>\n",
       "      <th>frequency</th>\n",
       "      <th>P(w)</th>\n",
       "      <th>rank</th>\n",
       "      <th>P(x|w)</th>\n",
       "    </tr>\n",
       "  </thead>\n",
       "  <tbody>\n",
       "    <tr>\n",
       "      <th>0</th>\n",
       "      <td>defeat</td>\n",
       "      <td>12</td>\n",
       "      <td>0.000006</td>\n",
       "      <td>2</td>\n",
       "      <td>0.012834</td>\n",
       "    </tr>\n",
       "    <tr>\n",
       "      <th>1</th>\n",
       "      <td>decet</td>\n",
       "      <td>0</td>\n",
       "      <td>0.000000</td>\n",
       "      <td>5</td>\n",
       "      <td>0.000028</td>\n",
       "    </tr>\n",
       "    <tr>\n",
       "      <th>2</th>\n",
       "      <td>defect</td>\n",
       "      <td>198</td>\n",
       "      <td>0.000094</td>\n",
       "      <td>1</td>\n",
       "      <td>0.003167</td>\n",
       "    </tr>\n",
       "    <tr>\n",
       "      <th>3</th>\n",
       "      <td>deft</td>\n",
       "      <td>0</td>\n",
       "      <td>0.000000</td>\n",
       "      <td>5</td>\n",
       "      <td>0.000003</td>\n",
       "    </tr>\n",
       "    <tr>\n",
       "      <th>4</th>\n",
       "      <td>defer</td>\n",
       "      <td>11</td>\n",
       "      <td>0.000005</td>\n",
       "      <td>3</td>\n",
       "      <td>0.000036</td>\n",
       "    </tr>\n",
       "    <tr>\n",
       "      <th>5</th>\n",
       "      <td>Deeft</td>\n",
       "      <td>0</td>\n",
       "      <td>0.000000</td>\n",
       "      <td>5</td>\n",
       "      <td>0.003311</td>\n",
       "    </tr>\n",
       "  </tbody>\n",
       "</table>\n",
       "</div>"
      ],
      "text/plain": [
       "     word  frequency      P(w)  rank    P(x|w)\n",
       "0  defeat         12  0.000006     2  0.012834\n",
       "1   decet          0  0.000000     5  0.000028\n",
       "2  defect        198  0.000094     1  0.003167\n",
       "3    deft          0  0.000000     5  0.000003\n",
       "4   defer         11  0.000005     3  0.000036\n",
       "5   Deeft          0  0.000000     5  0.003311"
      ]
     },
     "execution_count": 12,
     "metadata": {},
     "output_type": "execute_result"
    }
   ],
   "source": [
    "freq_df = pd.DataFrame([character_set, freq_list], index=['char', 'freq']).T\n",
    "freq_df = freq_df.set_index('char')\n",
    "IULA['P(x|w)'] = [\n",
    "    (norvig.loc['e|ea'].values / freq_df.loc['ea'].values)[0],\n",
    "    (norvig.loc['f|c'].values / freq_df.loc['c'].values)[0],\n",
    "    (norvig.loc['e|ec'].values / freq_df.loc['ec'].values)[0],\n",
    "    (norvig.loc['e| '].values / freq_df.loc['e'].values)[0],\n",
    "    (norvig.loc['t|r'].values / freq_df.loc['r'].values)[0],\n",
    "    (norvig.loc['fe|ef'].values / freq_df.loc['ef'].values)[0]\n",
    "]\n",
    "IULA.head(6)"
   ]
  },
  {
   "cell_type": "markdown",
   "id": "3929ff35",
   "metadata": {},
   "source": [
    "### Complete the 10^9P(x|w)P(w) using Norvig's prob and your IULA"
   ]
  },
  {
   "cell_type": "code",
   "execution_count": 13,
   "id": "760f937b",
   "metadata": {},
   "outputs": [
    {
     "data": {
      "text/html": [
       "<div>\n",
       "<style scoped>\n",
       "    .dataframe tbody tr th:only-of-type {\n",
       "        vertical-align: middle;\n",
       "    }\n",
       "\n",
       "    .dataframe tbody tr th {\n",
       "        vertical-align: top;\n",
       "    }\n",
       "\n",
       "    .dataframe thead th {\n",
       "        text-align: right;\n",
       "    }\n",
       "</style>\n",
       "<table border=\"1\" class=\"dataframe\">\n",
       "  <thead>\n",
       "    <tr style=\"text-align: right;\">\n",
       "      <th></th>\n",
       "      <th>word</th>\n",
       "      <th>frequency</th>\n",
       "      <th>P(w)</th>\n",
       "      <th>rank</th>\n",
       "      <th>P(x|w)</th>\n",
       "      <th>10e9 P(x|w)P(w)</th>\n",
       "    </tr>\n",
       "  </thead>\n",
       "  <tbody>\n",
       "    <tr>\n",
       "      <th>0</th>\n",
       "      <td>defeat</td>\n",
       "      <td>12</td>\n",
       "      <td>0.000006</td>\n",
       "      <td>2</td>\n",
       "      <td>0.012834</td>\n",
       "      <td>73.337097</td>\n",
       "    </tr>\n",
       "    <tr>\n",
       "      <th>1</th>\n",
       "      <td>decet</td>\n",
       "      <td>0</td>\n",
       "      <td>0.000000</td>\n",
       "      <td>5</td>\n",
       "      <td>0.000028</td>\n",
       "      <td>0.000000</td>\n",
       "    </tr>\n",
       "    <tr>\n",
       "      <th>2</th>\n",
       "      <td>defect</td>\n",
       "      <td>198</td>\n",
       "      <td>0.000094</td>\n",
       "      <td>1</td>\n",
       "      <td>0.003167</td>\n",
       "      <td>298.593664</td>\n",
       "    </tr>\n",
       "    <tr>\n",
       "      <th>3</th>\n",
       "      <td>deft</td>\n",
       "      <td>0</td>\n",
       "      <td>0.000000</td>\n",
       "      <td>5</td>\n",
       "      <td>0.000003</td>\n",
       "      <td>0.000000</td>\n",
       "    </tr>\n",
       "    <tr>\n",
       "      <th>4</th>\n",
       "      <td>defer</td>\n",
       "      <td>11</td>\n",
       "      <td>0.000005</td>\n",
       "      <td>3</td>\n",
       "      <td>0.000036</td>\n",
       "      <td>0.186141</td>\n",
       "    </tr>\n",
       "    <tr>\n",
       "      <th>5</th>\n",
       "      <td>Deeft</td>\n",
       "      <td>0</td>\n",
       "      <td>0.000000</td>\n",
       "      <td>5</td>\n",
       "      <td>0.003311</td>\n",
       "      <td>0.000000</td>\n",
       "    </tr>\n",
       "  </tbody>\n",
       "</table>\n",
       "</div>"
      ],
      "text/plain": [
       "     word  frequency      P(w)  rank    P(x|w)  10e9 P(x|w)P(w)\n",
       "0  defeat         12  0.000006     2  0.012834        73.337097\n",
       "1   decet          0  0.000000     5  0.000028         0.000000\n",
       "2  defect        198  0.000094     1  0.003167       298.593664\n",
       "3    deft          0  0.000000     5  0.000003         0.000000\n",
       "4   defer         11  0.000005     3  0.000036         0.186141\n",
       "5   Deeft          0  0.000000     5  0.003311         0.000000"
      ]
     },
     "execution_count": 13,
     "metadata": {},
     "output_type": "execute_result"
    }
   ],
   "source": [
    "IULA['10e9 P(x|w)P(w)'] = 1e9 * IULA['P(w)'] * IULA['P(x|w)']\n",
    "IULA.head(6)"
   ]
  },
  {
   "cell_type": "markdown",
   "id": "7252c3e2",
   "metadata": {},
   "source": [
    "---"
   ]
  },
  {
   "cell_type": "markdown",
   "id": "9be1094b",
   "metadata": {},
   "source": [
    "## 3. Use your calculated IULA and complete the calculation like that on page #38"
   ]
  },
  {
   "cell_type": "markdown",
   "id": "055512cb",
   "metadata": {},
   "source": [
    "giving the sentence"
   ]
  },
  {
   "cell_type": "markdown",
   "id": "ee0ac828",
   "metadata": {},
   "source": [
    "1.'a defeat' \n",
    "\n",
    "2.'a defect' \n",
    "\n",
    "3.'defeat free' \n",
    "\n",
    "4.'defect free'"
   ]
  },
  {
   "cell_type": "code",
   "execution_count": 20,
   "id": "1bec0022",
   "metadata": {},
   "outputs": [
    {
     "name": "stdout",
     "output_type": "stream",
     "text": [
      "[['a', 425037], ['free', 373], ['defeat', 12], ['defect', 198], ['a defeat', 0], ['a defect', 21], ['defeat free', 0], ['defect free', 0]]\n"
     ]
    }
   ],
   "source": [
    "mock_sentence = [\n",
    "    ['a', context.count('a')], \n",
    "    ['free', context.count('free')], \n",
    "    ['defeat', context.count('defeat')], \n",
    "    ['defect', context.count('defect')],\n",
    "    ['a defeat', context.count('a defeat')], \n",
    "    ['a defect', context.count('a defect')], \n",
    "    ['defeat free', context.count('defeat free')], \n",
    "    ['defect free', context.count('defect free')]\n",
    "]\n",
    "print(mock_sentence)"
   ]
  },
  {
   "cell_type": "markdown",
   "id": "32eb02c9",
   "metadata": {},
   "source": [
    "bigram model language"
   ]
  },
  {
   "cell_type": "code",
   "execution_count": 54,
   "id": "b84bc436",
   "metadata": {},
   "outputs": [],
   "source": [
    "mock_sentence = [\n",
    "    ['a', context.count('a'),'',''], \n",
    "    ['free', context.count('free'),'',''], \n",
    "    ['defeat', context.count('defeat'),'',''], \n",
    "    ['defect', context.count('defect'),'',''],\n",
    "    ['a defeat', context.count('a defeat'),'P(defeat | a)', 'C(a defeat)/C(defeat)'], \n",
    "    ['a defect', context.count('a defect'),'P(defect | a)', 'C(a defect)/C(defect)'], \n",
    "    ['defeat free', context.count('defeat free'),'P(free | defeat)', 'C(defeat free) / C(free)'], \n",
    "    ['defect free', context.count('defect free'),'P(free | defect)','C(defect free) / C(free)']\n",
    "]"
   ]
  },
  {
   "cell_type": "code",
   "execution_count": 55,
   "id": "60abaaeb",
   "metadata": {},
   "outputs": [],
   "source": [
    "IULA_cal = pd.DataFrame(\n",
    "    mock_sentence,\n",
    "    columns=['word','frequency','P(Wk|Wk-1)','C(Wk-1|Wk)/C(Wk-1)']\n",
    ")"
   ]
  },
  {
   "cell_type": "code",
   "execution_count": 56,
   "id": "05e73282",
   "metadata": {},
   "outputs": [
    {
     "name": "stdout",
     "output_type": "stream",
     "text": [
      "candidate word\n"
     ]
    },
    {
     "data": {
      "text/html": [
       "<div>\n",
       "<style scoped>\n",
       "    .dataframe tbody tr th:only-of-type {\n",
       "        vertical-align: middle;\n",
       "    }\n",
       "\n",
       "    .dataframe tbody tr th {\n",
       "        vertical-align: top;\n",
       "    }\n",
       "\n",
       "    .dataframe thead th {\n",
       "        text-align: right;\n",
       "    }\n",
       "</style>\n",
       "<table border=\"1\" class=\"dataframe\">\n",
       "  <thead>\n",
       "    <tr style=\"text-align: right;\">\n",
       "      <th></th>\n",
       "      <th>word</th>\n",
       "      <th>frequency</th>\n",
       "      <th>P(Wk|Wk-1)</th>\n",
       "      <th>C(Wk-1|Wk)/C(Wk-1)</th>\n",
       "    </tr>\n",
       "  </thead>\n",
       "  <tbody>\n",
       "    <tr>\n",
       "      <th>0</th>\n",
       "      <td>a</td>\n",
       "      <td>425037</td>\n",
       "      <td></td>\n",
       "      <td></td>\n",
       "    </tr>\n",
       "    <tr>\n",
       "      <th>1</th>\n",
       "      <td>free</td>\n",
       "      <td>373</td>\n",
       "      <td></td>\n",
       "      <td></td>\n",
       "    </tr>\n",
       "    <tr>\n",
       "      <th>2</th>\n",
       "      <td>defeat</td>\n",
       "      <td>12</td>\n",
       "      <td></td>\n",
       "      <td></td>\n",
       "    </tr>\n",
       "    <tr>\n",
       "      <th>3</th>\n",
       "      <td>defect</td>\n",
       "      <td>198</td>\n",
       "      <td></td>\n",
       "      <td></td>\n",
       "    </tr>\n",
       "  </tbody>\n",
       "</table>\n",
       "</div>"
      ],
      "text/plain": [
       "     word  frequency P(Wk|Wk-1) C(Wk-1|Wk)/C(Wk-1)\n",
       "0       a     425037                              \n",
       "1    free        373                              \n",
       "2  defeat         12                              \n",
       "3  defect        198                              "
      ]
     },
     "execution_count": 56,
     "metadata": {},
     "output_type": "execute_result"
    }
   ],
   "source": [
    "print(\"candidate word\")\n",
    "IULA_cal.head(4)"
   ]
  },
  {
   "cell_type": "code",
   "execution_count": 57,
   "id": "a75c51fe",
   "metadata": {},
   "outputs": [
    {
     "name": "stdout",
     "output_type": "stream",
     "text": [
      "focus data\n"
     ]
    },
    {
     "data": {
      "text/html": [
       "<div>\n",
       "<style scoped>\n",
       "    .dataframe tbody tr th:only-of-type {\n",
       "        vertical-align: middle;\n",
       "    }\n",
       "\n",
       "    .dataframe tbody tr th {\n",
       "        vertical-align: top;\n",
       "    }\n",
       "\n",
       "    .dataframe thead th {\n",
       "        text-align: right;\n",
       "    }\n",
       "</style>\n",
       "<table border=\"1\" class=\"dataframe\">\n",
       "  <thead>\n",
       "    <tr style=\"text-align: right;\">\n",
       "      <th></th>\n",
       "      <th>word</th>\n",
       "      <th>frequency</th>\n",
       "      <th>P(Wk|Wk-1)</th>\n",
       "      <th>C(Wk-1|Wk)/C(Wk-1)</th>\n",
       "    </tr>\n",
       "  </thead>\n",
       "  <tbody>\n",
       "    <tr>\n",
       "      <th>4</th>\n",
       "      <td>a defeat</td>\n",
       "      <td>0</td>\n",
       "      <td>P(defeat | a)</td>\n",
       "      <td>C(a defeat)/C(defeat)</td>\n",
       "    </tr>\n",
       "    <tr>\n",
       "      <th>5</th>\n",
       "      <td>a defect</td>\n",
       "      <td>21</td>\n",
       "      <td>P(defect | a)</td>\n",
       "      <td>C(a defect)/C(defect)</td>\n",
       "    </tr>\n",
       "    <tr>\n",
       "      <th>6</th>\n",
       "      <td>defeat free</td>\n",
       "      <td>0</td>\n",
       "      <td>P(free | defeat)</td>\n",
       "      <td>C(defeat free) / C(free)</td>\n",
       "    </tr>\n",
       "    <tr>\n",
       "      <th>7</th>\n",
       "      <td>defect free</td>\n",
       "      <td>0</td>\n",
       "      <td>P(free | defect)</td>\n",
       "      <td>C(defect free) / C(free)</td>\n",
       "    </tr>\n",
       "  </tbody>\n",
       "</table>\n",
       "</div>"
      ],
      "text/plain": [
       "          word  frequency        P(Wk|Wk-1)        C(Wk-1|Wk)/C(Wk-1)\n",
       "4     a defeat          0     P(defeat | a)     C(a defeat)/C(defeat)\n",
       "5     a defect         21     P(defect | a)     C(a defect)/C(defect)\n",
       "6  defeat free          0  P(free | defeat)  C(defeat free) / C(free)\n",
       "7  defect free          0  P(free | defect)  C(defect free) / C(free)"
      ]
     },
     "execution_count": 57,
     "metadata": {},
     "output_type": "execute_result"
    }
   ],
   "source": [
    "print(\"focus data\")\n",
    "IULA_cal.tail(4)"
   ]
  },
  {
   "cell_type": "code",
   "execution_count": 61,
   "id": "af4fd921",
   "metadata": {},
   "outputs": [
    {
     "name": "stdout",
     "output_type": "stream",
     "text": [
      "0.0\n"
     ]
    }
   ],
   "source": [
    "print(IULA_cal['frequency'][4]/IULA_cal['frequency'][2])"
   ]
  },
  {
   "cell_type": "code",
   "execution_count": 63,
   "id": "c0fb6f10",
   "metadata": {},
   "outputs": [
    {
     "data": {
      "text/html": [
       "<div>\n",
       "<style scoped>\n",
       "    .dataframe tbody tr th:only-of-type {\n",
       "        vertical-align: middle;\n",
       "    }\n",
       "\n",
       "    .dataframe tbody tr th {\n",
       "        vertical-align: top;\n",
       "    }\n",
       "\n",
       "    .dataframe thead th {\n",
       "        text-align: right;\n",
       "    }\n",
       "</style>\n",
       "<table border=\"1\" class=\"dataframe\">\n",
       "  <thead>\n",
       "    <tr style=\"text-align: right;\">\n",
       "      <th></th>\n",
       "      <th>word</th>\n",
       "      <th>frequency</th>\n",
       "      <th>P(Wk|Wk-1)</th>\n",
       "      <th>C(Wk-1|Wk)/C(Wk-1)</th>\n",
       "      <th>evaluate</th>\n",
       "    </tr>\n",
       "  </thead>\n",
       "  <tbody>\n",
       "    <tr>\n",
       "      <th>4</th>\n",
       "      <td>a defeat</td>\n",
       "      <td>0</td>\n",
       "      <td>P(defeat | a)</td>\n",
       "      <td>C(a defeat)/C(defeat)</td>\n",
       "      <td>0.0</td>\n",
       "    </tr>\n",
       "    <tr>\n",
       "      <th>5</th>\n",
       "      <td>a defect</td>\n",
       "      <td>21</td>\n",
       "      <td>P(defect | a)</td>\n",
       "      <td>C(a defect)/C(defect)</td>\n",
       "      <td>0.106061</td>\n",
       "    </tr>\n",
       "    <tr>\n",
       "      <th>6</th>\n",
       "      <td>defeat free</td>\n",
       "      <td>0</td>\n",
       "      <td>P(free | defeat)</td>\n",
       "      <td>C(defeat free) / C(free)</td>\n",
       "      <td>0.0</td>\n",
       "    </tr>\n",
       "    <tr>\n",
       "      <th>7</th>\n",
       "      <td>defect free</td>\n",
       "      <td>0</td>\n",
       "      <td>P(free | defect)</td>\n",
       "      <td>C(defect free) / C(free)</td>\n",
       "      <td>0.0</td>\n",
       "    </tr>\n",
       "  </tbody>\n",
       "</table>\n",
       "</div>"
      ],
      "text/plain": [
       "          word  frequency        P(Wk|Wk-1)        C(Wk-1|Wk)/C(Wk-1)  \\\n",
       "4     a defeat          0     P(defeat | a)     C(a defeat)/C(defeat)   \n",
       "5     a defect         21     P(defect | a)     C(a defect)/C(defect)   \n",
       "6  defeat free          0  P(free | defeat)  C(defeat free) / C(free)   \n",
       "7  defect free          0  P(free | defect)  C(defect free) / C(free)   \n",
       "\n",
       "   evaluate  \n",
       "4       0.0  \n",
       "5  0.106061  \n",
       "6       0.0  \n",
       "7       0.0  "
      ]
     },
     "execution_count": 63,
     "metadata": {},
     "output_type": "execute_result"
    }
   ],
   "source": [
    "mock_sentence = [\n",
    "    ['a', context.count('a'),'','',''], \n",
    "    ['free', context.count('free'),'','',''], \n",
    "    ['defeat', context.count('defeat'),'','',''], \n",
    "    ['defect', context.count('defect'),'','',''],\n",
    "    ['a defeat', context.count('a defeat'),'P(defeat | a)', 'C(a defeat)/C(defeat)',IULA_cal['frequency'][4]/IULA_cal['frequency'][2]], \n",
    "    ['a defect', context.count('a defect'),'P(defect | a)', 'C(a defect)/C(defect)',IULA_cal['frequency'][5]/IULA_cal['frequency'][3]], \n",
    "    ['defeat free', context.count('defeat free'),'P(free | defeat)', 'C(defeat free) / C(free)',IULA_cal['frequency'][6]/IULA_cal['frequency'][1]], \n",
    "    ['defect free', context.count('defect free'),'P(free | defect)','C(defect free) / C(free)',IULA_cal['frequency'][7]/IULA_cal['frequency'][1]]\n",
    "]\n",
    "IULA_cal = pd.DataFrame(\n",
    "    mock_sentence,\n",
    "    columns=['word','frequency','P(Wk|Wk-1)','C(Wk-1|Wk)/C(Wk-1)',\"evaluate\"]\n",
    ")\n",
    "\n",
    "IULA_cal.tail(4)"
   ]
  },
  {
   "cell_type": "code",
   "execution_count": 65,
   "id": "b725c9c2",
   "metadata": {},
   "outputs": [
    {
     "name": "stdout",
     "output_type": "stream",
     "text": [
      "P(a defeat free) =  0.0\n"
     ]
    }
   ],
   "source": [
    "print(\"P(a defeat free) = \",IULA_cal[\"evaluate\"][4]*IULA_cal[\"evaluate\"][6])"
   ]
  },
  {
   "cell_type": "code",
   "execution_count": 66,
   "id": "96542df3",
   "metadata": {},
   "outputs": [
    {
     "name": "stdout",
     "output_type": "stream",
     "text": [
      "P(a defeat free) =  0.0\n"
     ]
    }
   ],
   "source": [
    "print(\"P(a defeat free) = \",IULA_cal[\"evaluate\"][5]*IULA_cal[\"evaluate\"][7])"
   ]
  },
  {
   "cell_type": "markdown",
   "id": "9cea63f9",
   "metadata": {},
   "source": [
    "---"
   ]
  },
  {
   "cell_type": "markdown",
   "id": "3ac91c30",
   "metadata": {},
   "source": [
    "Ended Assignment"
   ]
  }
 ],
 "metadata": {
  "kernelspec": {
   "display_name": "Python 3 (ipykernel)",
   "language": "python",
   "name": "python3"
  },
  "language_info": {
   "codemirror_mode": {
    "name": "ipython",
    "version": 3
   },
   "file_extension": ".py",
   "mimetype": "text/x-python",
   "name": "python",
   "nbconvert_exporter": "python",
   "pygments_lexer": "ipython3",
   "version": "3.9.7"
  }
 },
 "nbformat": 4,
 "nbformat_minor": 5
}
