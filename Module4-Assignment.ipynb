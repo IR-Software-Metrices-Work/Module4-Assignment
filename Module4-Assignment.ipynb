{
 "cells": [
  {
   "cell_type": "markdown",
   "id": "f07c1ef4",
   "metadata": {},
   "source": [
    "# Module #4 -- Assignment\n",
    "\n",
    "# Instructions\n",
    "Using all the knowledge acquired mainly in this module to re-experiment what we discussed in this module using the raw IULA data\n",
    "\n",
    "\n",
    "\n",
    "## Preparation\n",
    "\n",
    "- Download the IULA dataset from [here](https://repositori.upf.edu/handle/10230/20052) (the link to the file is in the View document tab next to the Description)\n",
    "- The raw data is in EN/*/*-plain.txt in all the subfolders.\n",
    "\n",
    "## Your task is to\n",
    "\n",
    "### 1. Concatenate all the plain.txt into one file, then\n",
    "  - convert all the punctuations and non-English characters into space;\n",
    "  - collapse any trailing spaces into one single space;\n",
    "  - transform all the characters into lowercase;\n",
    "  - do not stem any of them.\n",
    "  \n",
    "### 2. Using the product of (1.) and recreate the table shown on page #22.\n",
    "  - If the value is not the same, give hypotheses what is the root cause that makes the page #22 in the slide incorrect\n",
    "  - Complete the 10^9P(x|w)P(w) using Norvig's prob and your IULA (page #30)\n",
    "  \n",
    "### 3. Use your calculated IULA and complete the calculation like that on page #37"
   ]
  },
  {
   "cell_type": "markdown",
   "id": "d5ab717c",
   "metadata": {},
   "source": [
    "---"
   ]
  },
  {
   "cell_type": "markdown",
   "id": "9343cbf5",
   "metadata": {},
   "source": [
    "### The Essentail Library"
   ]
  },
  {
   "cell_type": "code",
   "execution_count": 1,
   "id": "540b1c02",
   "metadata": {},
   "outputs": [],
   "source": [
    "import pandas as pd # do some data\n",
    "import string\n",
    "import timeit # just import for timer\n",
    "import numpy as np\n",
    "import multiprocessing as mp\n",
    "import functools\n",
    "\n",
    "from sklearn.feature_extraction.text import CountVectorizer\n",
    "from sklearn.feature_extraction.text import TfidfVectorizer # tf-idf built in function\n",
    "from scipy import sparse\n",
    "\n",
    "import nltk\n",
    "from nltk.tokenize import word_tokenize\n",
    "from nltk.corpus import stopwords\n",
    "from nltk.stem import PorterStemmer"
   ]
  },
  {
   "cell_type": "markdown",
   "id": "93ba6a04",
   "metadata": {},
   "source": [
    "---"
   ]
  },
  {
   "cell_type": "markdown",
   "id": "6a1c4ee4",
   "metadata": {},
   "source": [
    "# Assignment Part"
   ]
  },
  {
   "cell_type": "markdown",
   "id": "d0904a29",
   "metadata": {},
   "source": [
    "## 1. Concatenate all the plain.txt into one file, then\n",
    "  - convert all the punctuations and non-English characters into space;\n",
    "  - collapse any trailing spaces into one single space;\n",
    "  - transform all the characters into lowercase;\n",
    "  - do not stem any of them."
   ]
  },
  {
   "cell_type": "code",
   "execution_count": 2,
   "id": "3c440f13",
   "metadata": {},
   "outputs": [],
   "source": [
    "# python code"
   ]
  },
  {
   "cell_type": "markdown",
   "id": "cb011085",
   "metadata": {},
   "source": [
    "---"
   ]
  },
  {
   "cell_type": "markdown",
   "id": "51ebcf27",
   "metadata": {},
   "source": [
    "## 2. Using the product of (1.) and recreate the table shown on page #22.\n",
    "  - If the value is not the same, give hypotheses what is the root cause that makes the page #22 in the slide incorrect\n",
    "  - Complete the 10^9P(x|w)P(w) using Norvig's prob and your IULA (page #30)"
   ]
  },
  {
   "cell_type": "code",
   "execution_count": 3,
   "id": "b1c84fd4",
   "metadata": {},
   "outputs": [],
   "source": [
    "# python code"
   ]
  },
  {
   "cell_type": "markdown",
   "id": "af129fc6",
   "metadata": {},
   "source": [
    "---"
   ]
  },
  {
   "cell_type": "markdown",
   "id": "c8175a99",
   "metadata": {},
   "source": [
    "## 3. Use your calculated IULA and complete the calculation like that on page #37"
   ]
  },
  {
   "cell_type": "code",
   "execution_count": 4,
   "id": "f453e663",
   "metadata": {},
   "outputs": [],
   "source": [
    "# python code"
   ]
  },
  {
   "cell_type": "markdown",
   "id": "224c1abe",
   "metadata": {},
   "source": [
    "---"
   ]
  },
  {
   "cell_type": "markdown",
   "id": "2a1a9130",
   "metadata": {},
   "source": [
    "Ended Assignment"
   ]
  }
 ],
 "metadata": {
  "kernelspec": {
   "display_name": "Python 3 (ipykernel)",
   "language": "python",
   "name": "python3"
  },
  "language_info": {
   "codemirror_mode": {
    "name": "ipython",
    "version": 3
   },
   "file_extension": ".py",
   "mimetype": "text/x-python",
   "name": "python",
   "nbconvert_exporter": "python",
   "pygments_lexer": "ipython3",
   "version": "3.9.7"
  }
 },
 "nbformat": 4,
 "nbformat_minor": 5
}
