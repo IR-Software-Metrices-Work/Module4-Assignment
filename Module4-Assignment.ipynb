{
 "cells": [
  {
   "cell_type": "markdown",
   "id": "4d84c91b",
   "metadata": {},
   "source": [
    "# Module #4 -- Assignment\n",
    "\n",
    "# Instructions\n",
    "Using all the knowledge acquired mainly in this module to re-experiment what we discussed in this module using the raw IULA data\n",
    "\n",
    "\n",
    "\n",
    "## Preparation\n",
    "\n",
    "- Download the IULA dataset from [here](https://repositori.upf.edu/handle/10230/20052) (the link to the file is in the View document tab next to the Description)\n",
    "- The raw data is in EN/*/*-plain.txt in all the subfolders.\n",
    "\n",
    "## Your task is to\n",
    "\n",
    "### 1. Concatenate all the plain.txt into one file, then\n",
    "  - convert all the punctuations and non-English characters into space;\n",
    "  - collapse any trailing spaces into one single space;\n",
    "  - transform all the characters into lowercase;\n",
    "  - do not stem any of them.\n",
    "  \n",
    "### 2. Using the product of (1.) and recreate the table shown on page #22.\n",
    "  - If the value is not the same, give hypotheses what is the root cause that makes the page #22 in the slide incorrect\n",
    "  - Complete the 10^9P(x|w)P(w) using Norvig's prob and your IULA (page #30)\n",
    "  \n",
    "### 3. Use your calculated IULA and complete the calculation like that on page #37"
   ]
  },
  {
   "cell_type": "markdown",
   "id": "e55122ce",
   "metadata": {},
   "source": [
    "---"
   ]
  },
  {
   "cell_type": "markdown",
   "id": "045a3907",
   "metadata": {},
   "source": [
    "### The Essentail Library"
   ]
  },
  {
   "cell_type": "code",
   "execution_count": 61,
   "id": "bd7bee5d",
   "metadata": {},
   "outputs": [],
   "source": [
    "import pandas as pd # do some data\n",
    "import numpy as np\n",
    "import multiprocessing as mp\n",
    "import functools\n",
    "import itertools\n",
    "from string import ascii_lowercase\n",
    "import os\n",
    "from pathlib import Path\n",
    "import re"
   ]
  },
  {
   "cell_type": "markdown",
   "id": "36eae9e3",
   "metadata": {},
   "source": [
    "---"
   ]
  },
  {
   "cell_type": "markdown",
   "id": "7df57a9e",
   "metadata": {},
   "source": [
    "# Assignment Part"
   ]
  },
  {
   "cell_type": "markdown",
   "id": "99ca9f4c",
   "metadata": {},
   "source": [
    "## 1. Concatenate all the plain.txt into one file, then"
   ]
  },
  {
   "cell_type": "code",
   "execution_count": 81,
   "id": "be1c3312",
   "metadata": {},
   "outputs": [
    {
     "name": "stdout",
     "output_type": "stream",
     "text": [
      "trategies on the future of the chlorine industry C. Hendriks and D. Papameletiou Issue: Production and use of chlorine are of key importance for the chemical industry, with a large number of chlorinated compounds on the market, and nearly 60% of the global sales of chemical products being directly \n"
     ]
    }
   ],
   "source": [
    "path = \"E:\\CMU\\953\\IR481\\Module4\\IULA\\EN\"\n",
    "os.chdir(path)\n",
    "root_folder = os.listdir()\n",
    "\n",
    "context = ''\n",
    "for file in root_folder:\n",
    "    folder = f\"E:\\CMU\\953\\IR481\\Module4\\IULA\\EN\\{file}\"\n",
    "    os.chdir(folder)\n",
    "    plan_text = os.listdir()[1]\n",
    "    file_path = f\"{folder}\\{plan_text}\"\n",
    "    temp = Path(file_path).read_text('utf-8')\n",
    "    temp = temp.replace('\\n', '')\n",
    "    context += temp\n",
    "\n",
    "print(context[1:300])"
   ]
  },
  {
   "cell_type": "markdown",
   "id": "9b7b88e0",
   "metadata": {},
   "source": [
    "### convert all the punctuations and non-English characters into space;"
   ]
  },
  {
   "cell_type": "code",
   "execution_count": 83,
   "id": "395c3d66",
   "metadata": {},
   "outputs": [
    {
     "name": "stdout",
     "output_type": "stream",
     "text": [
      "trategies on the future of the chlorine industry C  Hendriks and D  Papameletiou Issue  Production and use of chlorine are of key importance for the chemical industry  with a large number of chlorinated compounds on the market  and nearly     of the global sales of chemical products being directly \n"
     ]
    }
   ],
   "source": [
    "context = re.sub('[^A-Za-z]',\" \",context)\n",
    "print(context[1:300])"
   ]
  },
  {
   "cell_type": "markdown",
   "id": "6dc0fc0a",
   "metadata": {},
   "source": [
    "### collapse any trailing spaces into one single space;"
   ]
  },
  {
   "cell_type": "code",
   "execution_count": 85,
   "id": "b68c90c7",
   "metadata": {},
   "outputs": [
    {
     "name": "stdout",
     "output_type": "stream",
     "text": [
      "trategies on the future of the chlorine industry C Hendriks and D Papameletiou Issue Production and use of chlorine are of key importance for the chemical industry with a large number of chlorinated compounds on the market and nearly of the global sales of chemical products being directly or indire\n"
     ]
    }
   ],
   "source": [
    "context = \" \".join(context.split())\n",
    "print(context[1:300])"
   ]
  },
  {
   "cell_type": "markdown",
   "id": "ab88acfb",
   "metadata": {},
   "source": [
    "### transform all the characters into lowercase (do not stem any of them.)"
   ]
  },
  {
   "cell_type": "code",
   "execution_count": 86,
   "id": "9c9f0f98",
   "metadata": {},
   "outputs": [
    {
     "name": "stdout",
     "output_type": "stream",
     "text": [
      "trategies on the future of the chlorine industry c hendriks and d papameletiou issue production and use of chlorine are of key importance for the chemical industry with a large number of chlorinated compounds on the market and nearly of the global sales of chemical products being directly or indire\n"
     ]
    }
   ],
   "source": [
    "context = context.lower()\n",
    "print(context[1:300])"
   ]
  },
  {
   "cell_type": "markdown",
   "id": "468d318d",
   "metadata": {},
   "source": [
    "---"
   ]
  },
  {
   "cell_type": "markdown",
   "id": "2d5b5af0",
   "metadata": {},
   "source": [
    "## 2. Using the product of (1.) and recreate the table shown on page #22.\n",
    "  - If the value is not the same, give hypotheses what is the root cause that makes the page #22 in the slide incorrect\n",
    "  - Complete the 10^9P(x|w)P(w) using Norvig's prob and your IULA (page #30)"
   ]
  },
  {
   "cell_type": "code",
   "execution_count": 3,
   "id": "ef422703",
   "metadata": {},
   "outputs": [],
   "source": [
    "# python code"
   ]
  },
  {
   "cell_type": "markdown",
   "id": "7252c3e2",
   "metadata": {},
   "source": [
    "---"
   ]
  },
  {
   "cell_type": "markdown",
   "id": "9be1094b",
   "metadata": {},
   "source": [
    "## 3. Use your calculated IULA and complete the calculation like that on page #37"
   ]
  },
  {
   "cell_type": "code",
   "execution_count": 4,
   "id": "8ba939f2",
   "metadata": {},
   "outputs": [],
   "source": [
    "# python code"
   ]
  },
  {
   "cell_type": "markdown",
   "id": "9cea63f9",
   "metadata": {},
   "source": [
    "---"
   ]
  },
  {
   "cell_type": "markdown",
   "id": "3ac91c30",
   "metadata": {},
   "source": [
    "Ended Assignment"
   ]
  }
 ],
 "metadata": {
  "kernelspec": {
   "display_name": "Python 3 (ipykernel)",
   "language": "python",
   "name": "python3"
  },
  "language_info": {
   "codemirror_mode": {
    "name": "ipython",
    "version": 3
   },
   "file_extension": ".py",
   "mimetype": "text/x-python",
   "name": "python",
   "nbconvert_exporter": "python",
   "pygments_lexer": "ipython3",
   "version": "3.9.7"
  }
 },
 "nbformat": 4,
 "nbformat_minor": 5
}
